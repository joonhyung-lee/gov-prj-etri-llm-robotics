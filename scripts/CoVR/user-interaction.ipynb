{
 "cells": [
  {
   "cell_type": "code",
   "execution_count": 5,
   "metadata": {},
   "outputs": [
    {
     "name": "stdout",
     "output_type": "stream",
     "text": [
      "None None\n"
     ]
    }
   ],
   "source": [
    "import cv2\n",
    "\n",
    "clicked_coordinates = []\n",
    "source_obj_position = None\n",
    "target_obj_position = None\n",
    "\n",
    "def mouse_click(event, x, y, flags, param):\n",
    "    global source_obj_position, target_obj_position\n",
    "    # Source Object\n",
    "    if event == cv2.EVENT_LBUTTONDOWN:\n",
    "        idx = len(clicked_coordinates) - 1\n",
    "        cv2.circle(rgb_image, (x, y), 25, (255, 0, 0, 10), -1)\n",
    "        cv2.putText(rgb_image, \"Target Object\", (x-80, y-15), cv2.FONT_HERSHEY_SIMPLEX, 0.75, (0, 0, 0), 2)\n",
    "\n",
    "    # Target Position\n",
    "    if event == cv2.EVENT_RBUTTONDOWN:\n",
    "        idx = len(clicked_coordinates) - 1\n",
    "        cv2.circle(rgb_image, (x, y), 25, (0, 255, 0, 10), -1)\n",
    "        cv2.putText(rgb_image, \"Target Position\", (x-80, y-15), cv2.FONT_HERSHEY_SIMPLEX, 0.75, (0, 0, 0), 2)\n",
    "\n",
    "# Display the RGB image\n",
    "rgb_image = cv2.imread('./ui-test.png')\n",
    "rgb_image = cv2.resize(rgb_image, (1280, 900))\n",
    "cv2.namedWindow('Tag Detection Example', cv2.WINDOW_AUTOSIZE)\n",
    "cv2.resizeWindow(\"RGB Image\", 640, 480)\n",
    "cv2.imshow(\"RGB Image\", rgb_image)\n",
    "cv2.setMouseCallback(\"RGB Image\", mouse_click)\n",
    "\n",
    "while True:\n",
    "    cv2.imshow(\"RGB Image\", rgb_image)\n",
    "    key = cv2.waitKey(1) & 0xFF\n",
    "    if key == ord('q') or key == 27:\n",
    "        break\n",
    "# Cleanup\n",
    "cv2.destroyAllWindows()\n",
    "\n",
    "print(source_obj_position, target_obj_position)\n"
   ]
  },
  {
   "cell_type": "code",
   "execution_count": 17,
   "metadata": {},
   "outputs": [
    {
     "name": "stdout",
     "output_type": "stream",
     "text": [
      "None None\n"
     ]
    }
   ],
   "source": [
    "import cv2\n",
    "\n",
    "clicked_coordinates = []\n",
    "source_obj_position = None\n",
    "target_obj_position = None\n",
    "\n",
    "def mouse_click(event, x, y, flags, param):\n",
    "    global source_obj_position, target_obj_position, rgb_image\n",
    "    # Source Object\n",
    "    if event == cv2.EVENT_LBUTTONDOWN:\n",
    "        idx = len(clicked_coordinates) - 1\n",
    "        overlay = rgb_image.copy()  # 이미지 복사하여 오버레이 생성\n",
    "        cv2.circle(overlay, (x, y), 20, (255, 0, 0), -1)  # 빨간색 원 그리기\n",
    "        rgb_image = cv2.addWeighted(overlay, 0.8, rgb_image, 0.2, 0)  # 오버레이 이미지와 원본 이미지 합성\n",
    "        cv2.putText(rgb_image, \"Target Object\", (x-95, y+55), cv2.FONT_HERSHEY_SIMPLEX, 1, (0, 0, 0), 2)  # 텍스트 그리기\n",
    "\n",
    "    # Target Position\n",
    "    if event == cv2.EVENT_RBUTTONDOWN:\n",
    "        idx = len(clicked_coordinates) - 1\n",
    "        overlay = rgb_image.copy()  # 이미지 복사하여 오버레이 생성\n",
    "        cv2.circle(overlay, (x, y), 20, (0, 255, 0), -1)  # 초록색 원 그리기\n",
    "        rgb_image = cv2.addWeighted(overlay, 0.8, rgb_image, 0.2, 0)  # 오버레이 이미지와 원본 이미지 합성\n",
    "        cv2.putText(rgb_image, \"Target Position\", (x-95, y+55), cv2.FONT_HERSHEY_SIMPLEX, 1, (0, 0, 0), 2)  # 텍스트 그리기\n",
    "\n",
    "# RGB 이미지 표시\n",
    "rgb_image = cv2.imread('./ui-test.png')\n",
    "rgb_image = cv2.resize(rgb_image, (1280, 900))\n",
    "cv2.namedWindow('Tag Detection Example', cv2.WINDOW_AUTOSIZE)\n",
    "cv2.resizeWindow(\"RGB Image\", 640, 480)\n",
    "cv2.imshow(\"RGB Image\", rgb_image)\n",
    "cv2.setMouseCallback(\"RGB Image\", mouse_click)\n",
    "\n",
    "while True:\n",
    "    cv2.imshow(\"RGB Image\", rgb_image)\n",
    "    key = cv2.waitKey(1) & 0xFF\n",
    "    if key == ord('q') or key == 27:\n",
    "        break\n",
    "\n",
    "# 정리\n",
    "cv2.destroyAllWindows()\n",
    "\n",
    "print(source_obj_position, target_obj_position)\n"
   ]
  },
  {
   "cell_type": "code",
   "execution_count": null,
   "metadata": {},
   "outputs": [],
   "source": []
  }
 ],
 "metadata": {
  "kernelspec": {
   "display_name": "SoM",
   "language": "python",
   "name": "python3"
  },
  "language_info": {
   "codemirror_mode": {
    "name": "ipython",
    "version": 3
   },
   "file_extension": ".py",
   "mimetype": "text/x-python",
   "name": "python",
   "nbconvert_exporter": "python",
   "pygments_lexer": "ipython3",
   "version": "3.9.9"
  }
 },
 "nbformat": 4,
 "nbformat_minor": 2
}
